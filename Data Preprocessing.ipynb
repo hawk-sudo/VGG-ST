{
 "cells": [
  {
   "cell_type": "markdown",
   "metadata": {},
   "source": [
    "# Image Classification Using CNN with VGG19 Architecture !"
   ]
  },
  {
   "cell_type": "markdown",
   "metadata": {},
   "source": [
    "### 1 Input Fundus Image"
   ]
  },
  {
   "cell_type": "code",
   "execution_count": 4,
   "metadata": {},
   "outputs": [],
   "source": [
    "import os\n",
    "\n",
    "import random\n",
    "import scipy.io\n",
    "import pandas as pd\n",
    "\n",
    "import tensorflow as tf\n",
    "import cv2\n",
    "import numpy as np\n",
    "import matplotlib.pyplot as plt\n",
    "from sklearn.model_selection import train_test_split\n",
    "\n",
    "\n",
    "\n",
    "import seaborn as sns\n",
    "import matplotlib.pyplot as plt\n",
    "from sklearn.metrics import confusion_matrix\n",
    "from sklearn.metrics import roc_auc_score\n",
    "from sklearn.metrics import classification_report\n",
    "from sklearn.manifold import TSNE\n",
    "from sklearn.model_selection import StratifiedKFold\n",
    "from imblearn.over_sampling import SMOTE\n",
    "from imblearn.over_sampling import RandomOverSampler\n",
    "import shutil"
   ]
  },
  {
   "cell_type": "code",
   "execution_count": 5,
   "metadata": {},
   "outputs": [],
   "source": [
    "import os\n",
    "from tensorflow.keras.utils import img_to_array\n",
    "from tensorflow.keras.utils import array_to_img\n",
    "from tensorflow.keras.utils import load_img\n",
    "from keras.preprocessing.image import ImageDataGenerator\n",
    "import random\n",
    "import scipy.io\n",
    "import pandas as pd\n",
    "\n",
    "import tensorflow as tf\n",
    "import cv2\n",
    "import numpy as np\n",
    "import matplotlib.pyplot as plt\n",
    "from sklearn.model_selection import train_test_split\n",
    "\n",
    "from tensorflow.keras.callbacks import EarlyStopping, ModelCheckpoint\n",
    "from tensorflow.keras.models import Sequential\n",
    "from tensorflow.keras.layers import Dense, Flatten, Dropout, Conv2D, MaxPooling2D\n",
    "from tensorflow.keras.optimizers import Adam\n",
    "\n",
    "import seaborn as sns\n",
    "import matplotlib.pyplot as plt\n",
    "from sklearn.metrics import confusion_matrix\n",
    "from sklearn.metrics import roc_auc_score\n",
    "from sklearn.metrics import classification_report\n",
    "from sklearn.manifold import TSNE\n",
    "from sklearn.model_selection import StratifiedKFold\n",
    "from imblearn.over_sampling import SMOTE\n",
    "from imblearn.over_sampling import RandomOverSampler\n",
    "from imblearn.under_sampling import RandomUnderSampler\n",
    "import shutil"
   ]
  },
  {
   "cell_type": "markdown",
   "metadata": {},
   "source": [
    "### Input param"
   ]
  },
  {
   "cell_type": "code",
   "execution_count": null,
   "metadata": {},
   "outputs": [],
   "source": [
    "param = {\n",
    "    'root_dir': './data',\n",
    "    'RWROP_data_dir': 'RWROPclassimage',\n",
    "    'RWROP_categories': ['RWROP_0', 'RWROP_1'],\n",
    "    'CLAHE_clipLimit': 10,\n",
    "}"
   ]
  },
  {
   "cell_type": "markdown",
   "metadata": {},
   "source": [
    "### Create image_dir for training and testing the model"
   ]
  },
  {
   "cell_type": "code",
   "execution_count": null,
   "metadata": {},
   "outputs": [],
   "source": [
    "root_dir = param['root_dir']\n",
    "RWROP_dir_categories = ['Aug_RWROP_ROSE','RWROP_ROSE', 'Aug_RWROP_trainset','RWROP_traindata',\n",
    "                        'RWROP_trainset', 'RWROP_valset','RWROP_testset']\n",
    "RWROP_categories = param['RWROP_categories']\n",
    "for i in range(5):\n",
    "    fold_dir = os.path.join(root_dir, 'fold_'+ str(i))\n",
    "    for name in RWROP_dir_categories:\n",
    "        data_dir = os.path.join(fold_dir, name)\n",
    "        try:\n",
    "            shutil.rmtree(data_dir)\n",
    "        except Exception as e:\n",
    "            print('create dir error')\n",
    "            pass\n",
    "        for category in RWROP_categories:\n",
    "            path = os.path.join(data_dir, category)\n",
    "            os.makedirs(path)"
   ]
  },
  {
   "cell_type": "markdown",
   "metadata": {},
   "source": [
    "### CLAHE"
   ]
  },
  {
   "cell_type": "code",
   "execution_count": null,
   "metadata": {},
   "outputs": [],
   "source": [
    "clahe = cv2.createCLAHE(clipLimit=param['CLAHE_clipLimit'])\n",
    "RWROP_categories = param['RWROP_categories']\n",
    "data_dir = param['RWROP_data_dir']\n",
    "clahe_dir = os.path.join(param['root_dir'], RWROP_data_dir+'_clahe')\n",
    "\n",
    "for category in RWROP_categories:\n",
    "    path = os.path.join(data_dir, category)\n",
    "    clahe_path = os.path.join(clahe_dir, category)\n",
    "    os.makedirs(clahe_path)\n",
    "    for img in os.listdir(path):\n",
    "        try:\n",
    "            img_array = cv2.imread(os.path.join(path,img))\n",
    "            img_green_channel = img_array[: , : , 1]\n",
    "            fit_img_green_channel = clahe.apply(img_green_channel)+1\n",
    "            img_array[: , : , 1] = fit_img_green_channel\n",
    "            cv2.imwrite(os.path.join(clahe_path, img[:-4]+'_clahe.png'), img_array)\n",
    "        except Exception as e:\n",
    "            print('clahe error on following img')\n",
    "            print(os.path.join(path,img))"
   ]
  },
  {
   "cell_type": "markdown",
   "metadata": {},
   "source": [
    "### 5-fold dataset"
   ]
  },
  {
   "cell_type": "code",
   "execution_count": null,
   "metadata": {},
   "outputs": [],
   "source": [
    "RWROP_data = []\n",
    "RWROP_label = []\n",
    "RWROP_categories = param['RWROP_categories']\n",
    "RWROP_data_dir = os.path.join(param['root_dir'], RWROP_data_dir+'_clahe')\n",
    "\n",
    "for category in RWROP_categories:\n",
    "    path = os.path.join(RWROP_data_dir, category)\n",
    "    class_num = RWROP_categories.index(category)\n",
    "    for img in os.listdir(path):\n",
    "        try: \n",
    "            RWROP_data.append(os.path.join(path, img))\n",
    "            RWROP_label.append(class_num)\n",
    "        except Exception as e:\n",
    "            print(\"error in labeling\")\n",
    "            pass\n",
    "print('\\n RWROP dataset size: {0}'.format(len(RWROP_data)))\n",
    "check_RWROP_label = set(RWROP_label)\n",
    "print(check_RWROP_label)\n",
    "\n",
    "\n",
    "\n",
    "\n"
   ]
  },
  {
   "cell_type": "code",
   "execution_count": null,
   "metadata": {},
   "outputs": [],
   "source": [
    "kflod_dir = param['root_dir']\n",
    "skf = StratifiedKFold(n_splits=5, shuffle=True, random_state=42)\n",
    "skf.get_n_splits(RWROP_data, RWROP_label)\n",
    "for i, (train_index, test_index) in enumerate(skf.split(RWROP_data, RWROP_label)):\n",
    "    for element in train_index:\n",
    "        img_array = cv2.imread(RWROP_data[element])\n",
    "        cv2.imwrite(os.path.join(kflod_dir, 'fold_'+ str(i), 'RWROP_traindata', RWROP_categories[RWROP_label[element]], str(RWROP_label[element]) + '_' + os.path.basename(RWROP_data[element])), img_array)\n",
    "                      \n",
    "    for element in test_index:\n",
    "        img_array = cv2.imread(RWROP_data[element])\n",
    "        cv2.imwrite(os.path.join(kflod_dir, 'fold_'+ str(i), 'RWROP_testset', RWROP_categories[RWROP_label[element]], str(RWROP_label[element]) + '_' + os.path.basename(RWROP_data[element])), img_array)\n",
    "\n"
   ]
  },
  {
   "cell_type": "markdown",
   "metadata": {},
   "source": [
    "### Traindata split to trainset and valset"
   ]
  },
  {
   "cell_type": "code",
   "execution_count": null,
   "metadata": {},
   "outputs": [],
   "source": [
    "val_ratio = 0.25\n",
    "root_dir = param['root_dir']\n",
    "RWROP_categories = param['RWROP_categories']\n",
    "\n",
    "for i in range(5):\n",
    "    fold_dir = os.path.join(root_dir, 'fold_'+ str(i),'RWROP_traindata')\n",
    "    data = []\n",
    "    label = []\n",
    "    for category in RWROP_categories:\n",
    "        path = os.path.join(fold_dir, category)\n",
    "        class_num = stage_categories.index(category)\n",
    "        for img in os.listdir(path):\n",
    "            try: \n",
    "                data.append(os.path.join(path, img))\n",
    "                label.append(class_num)\n",
    "            except Exception as e:\n",
    "                print(\"error in labeling\")\n",
    "                pass\n",
    "    X_train, X_val, y_train, y_val = train_test_split(data, label, test_size = val_ratio, random_state = 42)\n",
    "    for idx in range(X_train.shape[0]):\n",
    "        img_array = cv2.imread(X_train[idx])\n",
    "        cv2.imwrite(os.path.join(root_dir, 'fold_'+ str(i), 'RWROP_trainset', RWROP_categories[y_train[idx]],os.path.basename(X_train[idx])), img_array)\n",
    "    for idx in range(X_val.shape[0]):\n",
    "        img_array = cv2.imread(X_val[idx])\n",
    "        cv2.imwrite(os.path.join(root_dir, 'fold_'+ str(i), 'RWROP_valset', RWROP_categories[y_val[idx]],os.path.basename(X_val[idx])), img_array)\n",
    "            \n"
   ]
  },
  {
   "cell_type": "markdown",
   "metadata": {},
   "source": [
    "### ROSE Oversampling"
   ]
  },
  {
   "cell_type": "code",
   "execution_count": null,
   "metadata": {},
   "outputs": [],
   "source": [
    "root_dir = param['root_dir']\n",
    "RWROP_categories = param['RWROP_categories']\n",
    "\n",
    "for i in range(5):\n",
    "    RWROP_data = []\n",
    "    RWROP_label = []\n",
    "    fold_dir = os.path.join(root_dir, 'fold_'+ str(i), 'RWROP_trainset')\n",
    "    for category in RWROP_categories:\n",
    "        path = os.path.join(fold_dir, category)\n",
    "        class_num = RWROP_categories.index(category)\n",
    "        for img in os.listdir(path):\n",
    "            try: \n",
    "                img_array = cv2.imread(os.path.join(path,img))\n",
    "                new_array = img_array.flatten()\n",
    "                RWROP_data.append(new_array)\n",
    "                RWROP_label.append(class_num)\n",
    "            except Exception as e:\n",
    "                print(\"error in labeling\")\n",
    "                pass\n",
    "    RWROP_data = np.array(RWROP_data)\n",
    "    RWROP_label = np.array(RWROP_label)\n",
    "    rose = RandomOverSampler(random_state=42)\n",
    "    rose_data_resampled, rose_label_resampled = rose.fit_resample(RWROP_data, RWROP_label)\n",
    "    ROSE_data_dir = os.path.join(root_dir, 'fold_'+ str(i), 'RWROP_ROSE')\n",
    "    for idx in range(rose_data_resampled.shape[0]):\n",
    "        cv2.imwrite(os.path.join(ROSE_data_dir, RWROP_categories[rose_label_resampled[idx]], str(rose_label_resampled[idx])+'_ROSE_' + str(idx) + '.png'), rose_data_resampled[idx].reshape(480,640,3))    \n"
   ]
  },
  {
   "cell_type": "markdown",
   "metadata": {},
   "source": [
    "### Data Augmentation "
   ]
  },
  {
   "cell_type": "code",
   "execution_count": 7,
   "metadata": {},
   "outputs": [],
   "source": [
    "kflod_dir = param['root_dir']\n",
    "RWROP_categories = ['RWROP_0', 'RWROP_1']\n",
    "datagen = ImageDataGenerator(\n",
    "        rotation_range= 30,\n",
    "        zoom_range = [0.9, 1.1],\n",
    "        horizontal_flip = True,\n",
    "        fill_mode ='constant',\n",
    "        cval= 0)\n"
   ]
  },
  {
   "cell_type": "code",
   "execution_count": null,
   "metadata": {},
   "outputs": [],
   "source": [
    "for category in RWROP_categories:\n",
    "    for k in range(5):\n",
    "        load_dir = os.path.join(kflod_dir, 'fold_'+ str(k), 'RWROP_ROSE', category)\n",
    "        for img in os.listdir(load_dir):\n",
    "            image = load_img(load_dir+'/{0}'.format(img)) \n",
    "            x = img_to_array(image)\n",
    "            x = x.reshape((1,) + x.shape)\n",
    "            i = 0\n",
    "            for batch in datagen.flow(x, batch_size=1,\n",
    "                                       save_to_dir=os.path.join(kflod_dir, 'fold_'+ str(k), 'Aug_RWROP_ROSE', category), \n",
    "                                       save_prefix=category, save_format='png'):\n",
    "                i += 1\n",
    "                if i > 2:\n",
    "                    break"
   ]
  },
  {
   "cell_type": "code",
   "execution_count": null,
   "metadata": {},
   "outputs": [],
   "source": [
    "for k in range(5):\n",
    "    load_dir = os.path.join(kflod_dir, 'fold_'+ str(k), 'RWROP_trainset', 'RWROP_0')\n",
    "    for img in os.listdir(load_dir):\n",
    "        image = load_img(load_dir+'/{0}'.format(img)) \n",
    "        x = img_to_array(image)  \n",
    "        x = x.reshape((1,) + x.shape)\n",
    "\n",
    "        i = 0\n",
    "        for batch in datagen.flow(x, batch_size=1,\n",
    "                              save_to_dir=os.path.join(kflod_dir, 'fold_'+ str(k), 'Aug_RWROP_trainset', 'RWROP_0'), \n",
    "                              save_prefix='RWROP_0', save_format='png'):\n",
    "            i += 1\n",
    "            if i > 2:\n",
    "                break"
   ]
  },
  {
   "cell_type": "code",
   "execution_count": null,
   "metadata": {},
   "outputs": [],
   "source": [
    "for k in range(5):\n",
    "    load_dir = os.path.join(kflod_dir, 'fold_'+ str(k), 'RWROP_trainset', 'RWROP_1')\n",
    "    for img in os.listdir(load_dir):\n",
    "        image = load_img(load_dir+'/{0}'.format(img)) \n",
    "        x = img_to_array(image)  \n",
    "        x = x.reshape((1,) + x.shape)\n",
    "\n",
    "        i = 0\n",
    "        for batch in datagen.flow(x, batch_size=1,\n",
    "                              save_to_dir=os.path.join(kflod_dir, 'fold_'+ str(k), 'Aug_RWROP_trainset', 'RWROP_1'), \n",
    "                              save_prefix='RWROP_1', save_format='png'):\n",
    "            i += 1\n",
    "            if i > 35:\n",
    "                break"
   ]
  },
  {
   "cell_type": "code",
   "execution_count": null,
   "metadata": {},
   "outputs": [],
   "source": []
  }
 ],
 "metadata": {
  "kernelspec": {
   "display_name": "Python 3 (ipykernel)",
   "language": "python",
   "name": "python3"
  },
  "language_info": {
   "codemirror_mode": {
    "name": "ipython",
    "version": 3
   },
   "file_extension": ".py",
   "mimetype": "text/x-python",
   "name": "python",
   "nbconvert_exporter": "python",
   "pygments_lexer": "ipython3",
   "version": "3.8.17"
  }
 },
 "nbformat": 4,
 "nbformat_minor": 4
}
